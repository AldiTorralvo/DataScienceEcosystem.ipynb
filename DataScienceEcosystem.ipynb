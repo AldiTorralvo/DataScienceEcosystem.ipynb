{
 "cells": [
  {
   "cell_type": "markdown",
   "id": "fa61c85f-7cde-4f4b-8303-4cccd2f826b8",
   "metadata": {},
   "source": [
    "<h1>Objective:</h1>\n",
    "<h3>In this final assignment, you will:</h3>\n",
    "\n",
    "📌 Create a Jupyter Notebook\n",
    "\n",
    "📌 Insert code and markdown cells\n",
    "\n",
    "📌 Share your notebook through GitHub\n",
    "\n",
    "<li>Exercise 1: Create a Jupyter Notebook</li>\n",
    "<li>Exercise 2: Create markdown cell with title of the notebook</li>\n",
    "<li>Exercise 3 - Create a markdown cell for an introduction</li>\n",
    "<li>Exercise 4 - Create a markdown cell to list data science languages</li>\n",
    "<li>Exercise 5 - Create a markdown cell to list data science libraries</li>\n",
    "<li>Exercise 6 - Create a markdown cell with a table of Data Science tools</li>\n",
    "<li>Exercise 7 - Create a markdown cell introducing arithmetic expression examples</li>\n",
    "<li>Exercise 8 - Create a code cell to multiply and add numbers</li>\n",
    "<li>Exercise 9 - Create a code cell to convert minutes to hours</li>\n",
    "<li>Exercise 10 - Insert a markdown cell to list Objectives</li>\n",
    "<li>Exercise 11 - Create a markdown cell to indicate the Author's name</li>\n",
    "<li>Exercise 12 - Share your notebook through GitHub</li>\n",
    "<li>Exercise 13 -Take a screenshot of the first page of the notebook and save it as 1-notebook.png(Images can be saved with either the .jpg or .png extension.)</li>"
   ]
  },
  {
   "cell_type": "markdown",
   "id": "efcbef62-59c4-464d-90f9-2a947d05e192",
   "metadata": {},
   "source": [
    "<h1> Jupyter Notebook </h1>\n",
    "✔ Name: DataScienceEcosystem.ipynb "
   ]
  },
  {
   "cell_type": "markdown",
   "id": "4e1f4a64-f212-4088-82f8-5ca4bb7b7120",
   "metadata": {},
   "source": [
    "<h1> Data Science Tools and Ecosystem </h1>"
   ]
  },
  {
   "cell_type": "markdown",
   "id": "3acc08d9-f523-449f-aa01-900d151b65e7",
   "metadata": {},
   "source": [
    "📌 In this notebook, Data Science Tools and Ecosystem are summarized"
   ]
  },
  {
   "cell_type": "markdown",
   "id": "b31031fc-868b-43bf-a482-62554e4d5a61",
   "metadata": {},
   "source": [
    "<h3>Objectives:</h3>\n",
    "\n",
    "<li>List popular languages that Data Scientists use.</li>\n",
    "<li>List commonly used libraries used by Data Scientists.</li>\n",
    "<li>Comment on Data Science tools.</li>"
   ]
  },
  {
   "cell_type": "markdown",
   "id": "1bf89cb8-aac6-49e9-a060-e73de263b3cd",
   "metadata": {},
   "source": [
    "<h3>Some of the popular languages that Data Scientists use are:</h3>\n",
    "<li>Python.</li>\n",
    "<li>R.</li>\n",
    "<li>SQL.</li>\n",
    "<li>Java.</li>\n",
    "<li>Julia.</li>\n",
    "<li>Scala.</li>\n",
    "<li>C/C++.</li>\n",
    "<li>JavaScript.</li>\n",
    "<li>NoSQL.</li>"
   ]
  },
  {
   "cell_type": "markdown",
   "id": "8621aa38-41e3-4474-a63e-f1f349c56702",
   "metadata": {},
   "source": [
    "<h3>Some of the commonly used libraries used by Data Scientists include:</h3>\n",
    "<li>TensorFlow.</li>\n",
    "<li>NumPy.</li>\n",
    "<li>SciPy.</li>\n",
    "<li>Pandas.</li>\n",
    "<li>Matplotlib.</li>\n",
    "<li>Keras.</li>\n",
    "<li>SciKit-Learn.</li>\n",
    "<li>PyTorch.</li>\n",
    "<li>Scrapy.</li>\n",
    "<li>BeautifulSoup.</li>"
   ]
  },
  {
   "cell_type": "markdown",
   "id": "961f2082-3d60-45eb-8529-93961c513242",
   "metadata": {},
   "source": [
    "<h3>Data Science Tools:</h3>\n",
    "<table style=\\\"width:50%\\\">\n",
    "<tr>\n",
    "<td>Apache Spark.</td>\n",
    "</tr>\n",
    "<tr>\n",
    "<td>SAS.</td>\n",
    "</tr>\n",
    "<tr>\n",
    "<td>Git/GitHub.</td>\n",
    "</tr>    \n",
    "<tr>\n",
    "<td>Cloud: AWS, Google Cloud, Azure.</td>\n",
    "</tr>   \n",
    "<tr>\n",
    "<td>Kubernetes - Docker.</td>\n",
    "\n",
    "\n"
   ]
  },
  {
   "cell_type": "markdown",
   "id": "04bd3ec5-88a6-4a8d-a82f-b922a432aed5",
   "metadata": {},
   "source": [
    "<h3>Below are a few examples of evaluating arithmetic expressions in Python</h3>"
   ]
  },
  {
   "cell_type": "code",
   "execution_count": 86,
   "id": "1bdedc47-d196-4c0c-9cba-b1c7e8437da6",
   "metadata": {},
   "outputs": [
    {
     "data": {
      "text/plain": [
       "17"
      ]
     },
     "execution_count": 86,
     "metadata": {},
     "output_type": "execute_result"
    }
   ],
   "source": [
    "#This a simple arithmetic expression to mutiply then add integers\n",
    "(3*4)+5\n",
    "#result 17\n"
   ]
  },
  {
   "cell_type": "code",
   "execution_count": 80,
   "id": "725c6a0f-8ee0-418e-b842-aa006aaa7514",
   "metadata": {},
   "outputs": [
    {
     "data": {
      "text/plain": [
       "3.3333333333333335"
      ]
     },
     "execution_count": 80,
     "metadata": {},
     "output_type": "execute_result"
    }
   ],
   "source": [
    "#This will convert 200 minutes to hours by diving by 60\n",
    "(200/60)\n",
    "#result 3.3333333333333335"
   ]
  },
  {
   "cell_type": "markdown",
   "id": "fdd26431-14a0-4332-b9d4-3c5a357eb4c2",
   "metadata": {},
   "source": [
    "<h2> Author: </h2>\n",
    "Aldana Torralvo"
   ]
  }
 ],
 "metadata": {
  "kernelspec": {
   "display_name": "anaconda-panel-2023.05-py310",
   "language": "python",
   "name": "conda-env-anaconda-panel-2023.05-py310-py"
  },
  "language_info": {
   "codemirror_mode": {
    "name": "ipython",
    "version": 3
   },
   "file_extension": ".py",
   "mimetype": "text/x-python",
   "name": "python",
   "nbconvert_exporter": "python",
   "pygments_lexer": "ipython3",
   "version": "3.11.4"
  }
 },
 "nbformat": 4,
 "nbformat_minor": 5
}
